{
 "cells": [
  {
   "cell_type": "markdown",
   "metadata": {},
   "source": [
    "# SOME GENERAL CPP NOTES\n"
   ]
  },
  {
   "cell_type": "code",
   "execution_count": null,
   "metadata": {},
   "outputs": [],
   "source": [
    "class Rational {\n",
    "    public: \n",
    "    Rational();\n",
    "    Rational(int n) {num = n; den=1;}reduce();;\n",
    "    Rational(int n, int d){num =n; den=d;};\n",
    "    double conversion();\n",
    "    void print();\n",
    "    int numerator(){return num;};\n",
    "    int denominator(){return den;};\n",
    "    private: \n",
    "    int num, den;\n",
    "    void reduce();\n",
    "\n",
    "\n",
    "}; \n",
    "int main(){\n",
    "    Rational x, y(4), z(22,7);\n",
    "    cout<<\"X= \";\n",
    "    x.print();\n",
    "    cout<<\"Y= \";\n",
    "    y.print();\n",
    "    cout<<\"Z= \";\n",
    "    z.print();\n",
    "    cout<<endl<<x.numerator()<<\"/\"<<x.denominator()<<endl;\n",
    "\n",
    "    return 0;\n",
    "\n",
    "\n",
    "}"
   ]
  },
  {
   "cell_type": "code",
   "execution_count": null,
   "metadata": {},
   "outputs": [],
   "source": [
    "#Calculating the reduced fraction\n",
    "\n",
    "#include <iostream>\n",
    "using namespace std;\n",
    "\n",
    "Class Rational {\n",
    "    public Rational(int n=0)\n",
    "}"
   ]
  },
  {
   "cell_type": "markdown",
   "metadata": {},
   "source": []
  },
  {
   "cell_type": "markdown",
   "metadata": {},
   "source": []
  }
 ],
 "metadata": {
  "kernelspec": {
   "display_name": "Python 3.9.7 64-bit",
   "language": "python",
   "name": "python3"
  },
  "language_info": {
   "name": "python",
   "version": "3.9.7"
  },
  "orig_nbformat": 4,
  "vscode": {
   "interpreter": {
    "hash": "aee8b7b246df8f9039afb4144a1f6fd8d2ca17a180786b69acc140d282b71a49"
   }
  }
 },
 "nbformat": 4,
 "nbformat_minor": 2
}
